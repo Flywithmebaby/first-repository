{
  "nbformat": 4,
  "nbformat_minor": 0,
  "metadata": {
    "colab": {
      "provenance": [],
      "authorship_tag": "ABX9TyPnjGm/G6uP8frO7JSp5mHo",
      "include_colab_link": true
    },
    "kernelspec": {
      "name": "python3",
      "display_name": "Python 3"
    },
    "language_info": {
      "name": "python"
    }
  },
  "cells": [
    {
      "cell_type": "markdown",
      "metadata": {
        "id": "view-in-github",
        "colab_type": "text"
      },
      "source": [
        "<a href=\"https://colab.research.google.com/github/Flywithmebaby/first-repository/blob/main/Untitled2.ipynb\" target=\"_parent\"><img src=\"https://colab.research.google.com/assets/colab-badge.svg\" alt=\"Open In Colab\"/></a>"
      ]
    },
    {
      "cell_type": "code",
      "source": [
        "!pip install PyPDF2"
      ],
      "metadata": {
        "id": "Xz_eVlTi2d5W",
        "outputId": "5fd49852-9ecb-4599-8b9f-275f115b4b75",
        "colab": {
          "base_uri": "https://localhost:8080/"
        }
      },
      "execution_count": null,
      "outputs": [
        {
          "output_type": "stream",
          "name": "stdout",
          "text": [
            "Collecting PyPDF2\n",
            "  Downloading pypdf2-3.0.1-py3-none-any.whl.metadata (6.8 kB)\n",
            "Downloading pypdf2-3.0.1-py3-none-any.whl (232 kB)\n",
            "\u001b[?25l   \u001b[90m━━━━━━━━━━━━━━━━━━━━━━━━━━━━━━━━━━━━━━━━\u001b[0m \u001b[32m0.0/232.6 kB\u001b[0m \u001b[31m?\u001b[0m eta \u001b[36m-:--:--\u001b[0m\r\u001b[2K   \u001b[91m━━━━━━━━━━━━━━━\u001b[0m\u001b[91m╸\u001b[0m\u001b[90m━━━━━━━━━━━━━━━━━━━━━━━━\u001b[0m \u001b[32m92.2/232.6 kB\u001b[0m \u001b[31m2.5 MB/s\u001b[0m eta \u001b[36m0:00:01\u001b[0m\r\u001b[2K   \u001b[90m━━━━━━━━━━━━━━━━━━━━━━━━━━━━━━━━━━━━━━━━\u001b[0m \u001b[32m232.6/232.6 kB\u001b[0m \u001b[31m3.8 MB/s\u001b[0m eta \u001b[36m0:00:00\u001b[0m\n",
            "\u001b[?25hInstalling collected packages: PyPDF2\n",
            "Successfully installed PyPDF2-3.0.1\n"
          ]
        }
      ]
    },
    {
      "cell_type": "code",
      "source": [
        "import os\n",
        "from PyPDF2 import PdfReader, PdfWriter"
      ],
      "metadata": {
        "id": "VrSVRh73We8b"
      },
      "execution_count": null,
      "outputs": []
    },
    {
      "cell_type": "code",
      "source": [
        "def merge_pdfs(directionary,output_path):\n",
        "  pdf_writer=PdfWriter()\n",
        "  pdf_files=[f for f in os.listdir(directionary) if f.endswith('.pdf')]\n",
        "  for pdf_file in pdf_files:\n",
        "    pdf_path=os.path.join(directionary,pdf_file)\n",
        "    with open(pdf_path,'rb') as file:\n",
        "      pdf_reader=PdfReader(file)\n",
        "      for page in pdf_reader.pages:\n",
        "\n",
        "        pdf_writer.add_page(page)\n",
        "  with open(output_path,'wb') as output_pdf:\n",
        "    pdf_writer.write(output_pdf)\n",
        "\n",
        "\"\"\" 合并文件夹下面所有的pdf文件 \"\"\"\n"
      ],
      "metadata": {
        "id": "pI11SVHk265q"
      },
      "execution_count": null,
      "outputs": []
    },
    {
      "cell_type": "code",
      "source": [
        "directionary='/content/sample_data'\n",
        "\n",
        "output_path='merged_output.pdf'\n",
        "merge_pdfs(directionary,output_path)\n",
        "print('pdf files have been merged into {output_path}')\n",
        "\n",
        "\n",
        "\"\"\"生成并输出合并后的pdf文件\"\"\""
      ],
      "metadata": {
        "colab": {
          "base_uri": "https://localhost:8080/"
        },
        "id": "4vuiQIXA4X8T",
        "outputId": "82e1fc39-59a7-4305-8b88-462d290376e8"
      },
      "execution_count": null,
      "outputs": [
        {
          "output_type": "stream",
          "name": "stdout",
          "text": [
            "pdf files have been merged into {output_path}\n"
          ]
        }
      ]
    },
    {
      "cell_type": "code",
      "source": [
        "def split_pdf(input_pdf_path, output_pdf_path1, output_pdf_path2):\n",
        "  with open(input_pdf_path,'rb') as file:\n",
        "    reader=PdfReader(file)\n",
        "    num_pages=len(reader.pages)\n",
        "    writer1=PdfWriter()\n",
        "    writer2=PdfWriter()\n",
        "    middle_page=num_pages//2\n",
        "    for i in range(middle_page):\n",
        "      writer1.add_page(reader.pages[i])\n",
        "    with open(output_pdf_path1,'wb') as output1:\n",
        "      writer1.write(output1)\n",
        "    for i in range(middle_page,num_pages):\n",
        "      writer2.add_page(reader.pages[i])\n",
        "    with open(output_pdf_path2,'wb') as output2:\n",
        "      writer2.write(output2)\n",
        "\n",
        "\"\"\"拆分多页PDF文件\"\"\"\n"
      ],
      "metadata": {
        "id": "q8C6Yu7K5Zv2"
      },
      "execution_count": null,
      "outputs": []
    },
    {
      "cell_type": "code",
      "source": [
        "input_pdf_path='/content/sample_data/1.pdf'\n",
        "output_pdf_path1=\"part1.pdf\"\n",
        "output_pdf_path2=\"part2.pdf\"\n",
        "split_pdf(input_pdf_path,output_pdf_path1,output_pdf_path2)"
      ],
      "metadata": {
        "id": "onf85gRqDvR6"
      },
      "execution_count": null,
      "outputs": []
    },
    {
      "cell_type": "code",
      "source": [
        "!pip install pypdf"
      ],
      "metadata": {
        "colab": {
          "base_uri": "https://localhost:8080/"
        },
        "id": "4dOYSrOyFXAj",
        "outputId": "ecd6575b-c767-4805-e5b3-773ef2e479e1"
      },
      "execution_count": null,
      "outputs": [
        {
          "output_type": "stream",
          "name": "stdout",
          "text": [
            "Collecting pypdf\n",
            "  Downloading pypdf-5.4.0-py3-none-any.whl.metadata (7.3 kB)\n",
            "Downloading pypdf-5.4.0-py3-none-any.whl (302 kB)\n",
            "\u001b[2K   \u001b[90m━━━━━━━━━━━━━━━━━━━━━━━━━━━━━━━━━━━━━━━━\u001b[0m \u001b[32m302.3/302.3 kB\u001b[0m \u001b[31m5.7 MB/s\u001b[0m eta \u001b[36m0:00:00\u001b[0m\n",
            "\u001b[?25hInstalling collected packages: pypdf\n",
            "Successfully installed pypdf-5.4.0\n"
          ]
        }
      ]
    },
    {
      "cell_type": "code",
      "source": [
        "from pypdf import PdfReader, PdfWriter, PageObject\n",
        "from pypdf.generic import RectangleObject"
      ],
      "metadata": {
        "id": "PSf5_JmUFIo3"
      },
      "execution_count": null,
      "outputs": []
    },
    {
      "cell_type": "code",
      "source": [
        "pdf_reader=PdfReader('/content/merged_output.pdf')\n",
        "pdf_writer=PdfWriter()\n",
        "\n",
        "\n",
        "page1=pdf_reader.pages[0]\n",
        "page2=pdf_reader.pages[1]\n",
        "#print(page1.mediabox.width, page1.mediabox.height, page2.mediabox.width, page2.mediabox.height)\n",
        "\n",
        "\n",
        "new_page=PageObject.create_blank_page(width=page1.mediabox.width,height=page1.mediabox.height + page2.mediabox.height)\n",
        "new_page.merge_transformed_page(page1,(1, 0, 0, 1, 0, page2.mediabox.height))\n",
        "#print(new_page.mediabox.height)\n",
        "# pdf_writer.add_page(new_page)\n",
        "#with open('output1.pdf','wb') as f1:\n",
        "#  pdf_writer.write(f1)\n",
        "#new_mediabox=RectangleObject((0,page1.mediabox.height,page2.mediabox.width,page1.mediabox.height+page2.mediabox.height))\n",
        "#page2.mediabox=new_mediabox\n",
        "#new_page.merge_page(page2)\n",
        "new_page.merge_transformed_page(page2, (1, 0, 0, 1, 0, 0))\n",
        "\n",
        "pdf_writer.add_page(new_page)\n",
        "with open('output_pdf.pdf','wb') as file_output:\n",
        "  pdf_writer.write(file_output)\n",
        "\n",
        "\"\"\"合并两页PDF文件\"\"\"\n"
      ],
      "metadata": {
        "id": "00-OfHAVat8b"
      },
      "execution_count": null,
      "outputs": []
    },
    {
      "cell_type": "code",
      "source": [
        "def merge_vertically(page1, page2):\n",
        "    # 创建新页面（高度相加，宽度取最大）\n",
        "    new_width = max(page1.mediabox.width, page2.mediabox.width)\n",
        "    new_height = page1.mediabox.height + page2.mediabox.height\n",
        "    new_page = PageObject.create_blank_page(width=new_width, height=new_height)\n",
        "\n",
        "    # 合并第一页（放置在顶部）\n",
        "    new_page.merge_transformed_page(\n",
        "        page1,\n",
        "        (1, 0, 0, 1, 0, page2.mediabox.height),  # 平移坐标变换\n",
        "    )\n",
        "\n",
        "    # 合并第二页（放置在底部）\n",
        "    new_page.merge_transformed_page(page2, (1, 0, 0, 1, 0, 0))\n",
        "\n",
        "    return new_page\n",
        "\n",
        "\"\"\"纵向合并PDF文件\"\"\""
      ],
      "metadata": {
        "id": "Kval_Ysql0IY"
      },
      "execution_count": null,
      "outputs": []
    },
    {
      "cell_type": "code",
      "source": [
        "with open(\"merged_output.pdf\", \"rb\") as f:\n",
        "    reader = PdfReader(f)\n",
        "    writer = PdfWriter()\n",
        "\n",
        "    for i in range(0, len(reader.pages), 2):\n",
        "        page1 = reader.pages[i]\n",
        "        # 修复点：为空白页添加尺寸参数（与原页面一致）\n",
        "        page2 = reader.pages[i+1] if i+1 < len(reader.pages) else PageObject.create_blank_page(\n",
        "            width=page1.mediabox.width,\n",
        "            height=page1.mediabox.height\n",
        "        )\n",
        "        merged = merge_vertically(page1, page2)\n",
        "        writer.add_page(merged)\n",
        "\n",
        "    with open(\"output.pdf\", \"wb\") as out_f:\n",
        "        writer.write(out_f)\n",
        "\n",
        "\n",
        "\"\"\"生成并输出合并后的多页PDF文件\"\"\""
      ],
      "metadata": {
        "id": "JvsGH53Ll9mj"
      },
      "execution_count": null,
      "outputs": []
    }
  ]
}